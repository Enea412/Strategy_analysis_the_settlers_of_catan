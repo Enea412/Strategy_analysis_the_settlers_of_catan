{
 "cells": [
  {
   "cell_type": "code",
   "execution_count": 4,
   "id": "e454c097-8916-494b-a2f6-ffd3f8e14849",
   "metadata": {},
   "outputs": [
    {
     "name": "stdout",
     "output_type": "stream",
     "text": [
      "Benötigte Stichprobenanzahl: 133\n"
     ]
    }
   ],
   "source": [
    "##################################################################################\n",
    "#### Sticprobenumfang für die Durchschnittlich am meisten verwendete Ressource####\n",
    "##################################################################################\n",
    "\n",
    "import statsmodels.stats.power as smp\n",
    "\n",
    "def berechne_stichprobenumfang(alpha, power, effekt_groesse, anzahl_kategorien, erwartete_wahrscheinlichkeiten):\n",
    "    \"\"\"\n",
    "    Berechnet den Stichprobenumfang für einen Chi-Quadrat-Anpassungstest, basierend auf erwarteten Wahrscheinlichkeiten.\n",
    "    \n",
    "    Parameter:\n",
    "    - alpha: Signifikanzniveau (z.B. 0.05 für 5%)\n",
    "    - power: Teststärke (z.B. 0.8 für 80%)\n",
    "    - effekt_groesse: Effektgröße (Cohen's w), 0.3 (mittel)\n",
    "    - anzahl_kategorien: ( 5 für Holz, Lehm, Erz, Getreide, Schaf)\n",
    "    - erwartete_wahrscheinlichkeiten: Liste von Wahrscheinlichkeiten für jede Kategorie \n",
    "    \n",
    "    Rückgabe:\n",
    "    - Benötigter Stichprobenumfang\n",
    "    \"\"\"\n",
    "    chi2_power = smp.GofChisquarePower()\n",
    "    sample_size = chi2_power.solve_power(effect_size=effekt_groesse, nobs=None, alpha=alpha, power=power, n_bins=anzahl_kategorien)\n",
    "    \n",
    "    return sample_size\n",
    "\n",
    "# Parameter definieren\n",
    "alpha = 0.05  # Signifikanzniveau\n",
    "power = 0.8        # Teststärke\n",
    "effekt_groesse = 0.3  # Moderate Effektgröße (Cohen's w)\n",
    "anzahl_kategorien = 5 # z.B. 5 Kategorien in Catan (Holz, Lehm, Erz, Getreide, Schaf)\n",
    "\n",
    "# Wahrscheinlichkeiten für die Ressourcen\n",
    "erwartete_wahrscheinlichkeiten = [4/18, 3/18, 4/18, 3/18, 4/18]\n",
    "\n",
    "# Berechnung ausführen\n",
    "benoetigte_stichproben = berechne_stichprobenumfang(alpha, power, effekt_groesse, anzahl_kategorien, erwartete_wahrscheinlichkeiten)\n",
    "print(f\"Benötigte Stichprobenanzahl: {benoetigte_stichproben:.0f}\")\n"
   ]
  },
  {
   "cell_type": "code",
   "execution_count": null,
   "id": "7f9ce8e6-7ccf-4d3e-89ee-10f46bc96420",
   "metadata": {},
   "outputs": [],
   "source": []
  },
  {
   "cell_type": "code",
   "execution_count": null,
   "id": "e04c94c4-d2ea-442e-b910-0dfc2ac60b67",
   "metadata": {},
   "outputs": [],
   "source": []
  },
  {
   "cell_type": "code",
   "execution_count": 3,
   "id": "b576ac80-7128-4a70-8942-bcd9f2903db4",
   "metadata": {},
   "outputs": [
    {
     "name": "stdout",
     "output_type": "stream",
     "text": [
      "Benötigte Stichprobengröße: 174.41912242947043\n"
     ]
    }
   ],
   "source": [
    "#############################\n",
    "#######Stichprobengrösse für ###\n",
    "#############################\n",
    "\n",
    "from statsmodels.stats.power import NormalIndPower\n",
    "\n",
    "# Definiere die Parameter\n",
    "effect_size = 0.3  # Effektgröße (größer bedeutet größere Unterschiede)\n",
    "alpha = 0.05  # Signifikanzniveau\n",
    "power = 0.80  # Power\n",
    "n_bins = 2  # Anzahl der Gruppen (Erz-Weizen und Holz-Lehm)\n",
    "\n",
    "# Berechne die Stichprobengröße\n",
    "power_analysis = NormalIndPower()\n",
    "sample_size = power_analysis.solve_power(effect_size=effect_size, alpha=alpha, power=power)\n",
    "\n",
    "print(f\"Benötigte Stichprobengröße: {sample_size}\")"
   ]
  },
  {
   "cell_type": "code",
   "execution_count": 8,
   "id": "df735f20-bc18-4ba7-87e8-c63bd475d8c2",
   "metadata": {},
   "outputs": [
    {
     "name": "stdout",
     "output_type": "stream",
     "text": [
      "Benötigte Stichprobengröße für jede der beiden Gruppen (Erz-Weizen und Holz-Lehm): 174.41912242947043\n",
      "Gesamtstichprobengröße unter Berücksichtigung der neutralen Zone: 261.6286836442057\n"
     ]
    }
   ],
   "source": [
    "\n",
    "###################################################################\n",
    "#######Stichprobengrösse für Erz-weizen und Lehm-Holz strategie ###\n",
    "###################################################################\n",
    "\n",
    "from statsmodels.stats.power import NormalIndPower\n",
    "\n",
    "# Definiere die Parameter\n",
    "effect_size = 0.3  # Effektgröße (Schätzung des Unterschieds zwischen den beiden Strategien)\n",
    "alpha = 0.05  # Signifikanzniveau\n",
    "power = 0.80  # Power (80%)\n",
    "neutral_zone_percentage = 0.40  # Prozentsatz der neutralen Zone\n",
    "group_percentage = 2/3  # Prozentsatz für beide Gruppen (Erz-Weizen und Holz-Lehm)\n",
    "\n",
    "# Berechne die Stichprobengröße für beiden Gruppen\n",
    "power_analysis = NormalIndPower()\n",
    "\n",
    "# Berechnung des Stichprobenumfangs für beide Gruppen (hier 60% der Gesamtstichprobe)\n",
    "sample_size_for_group = power_analysis.solve_power(effect_size=effect_size, alpha=alpha, power=power)\n",
    "\n",
    "\n",
    "total_sample_size = sample_size_for_group / group_percentage  # Aufteilen auf 60% da die neutrale Zone nicht getestet wird. \n",
    "\n",
    "print(f\"Benötigte Stichprobengröße für jede der beiden Gruppen (Erz-Weizen und Holz-Lehm): {sample_size_for_group}\")\n",
    "print(f\"Gesamtstichprobengröße unter Berücksichtigung der neutralen Zone: {total_sample_size}\")\n"
   ]
  }
 ],
 "metadata": {
  "kernelspec": {
   "display_name": "Python 3 (ipykernel)",
   "language": "python",
   "name": "python3"
  },
  "language_info": {
   "codemirror_mode": {
    "name": "ipython",
    "version": 3
   },
   "file_extension": ".py",
   "mimetype": "text/x-python",
   "name": "python",
   "nbconvert_exporter": "python",
   "pygments_lexer": "ipython3",
   "version": "3.12.7"
  }
 },
 "nbformat": 4,
 "nbformat_minor": 5
}
